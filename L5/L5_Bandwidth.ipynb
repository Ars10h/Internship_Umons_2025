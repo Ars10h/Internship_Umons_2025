{
 "cells": [
  {
   "cell_type": "markdown",
   "id": "c0864134",
   "metadata": {},
   "source": [
    "# Lesson 5: Bandwidth"
   ]
  },
  {
   "cell_type": "code",
   "execution_count": 1,
   "id": "da28acbc",
   "metadata": {},
   "outputs": [
    {
     "name": "stdout",
     "output_type": "stream",
     "text": [
      "Requirement already satisfied: flwr==1.10.0 in c:\\users\\dell\\appdata\\local\\programs\\python\\python311\\lib\\site-packages (from -r requirements.txt (line 5)) (1.10.0)\n",
      "Requirement already satisfied: ray==2.6.3 in c:\\users\\dell\\appdata\\local\\programs\\python\\python311\\lib\\site-packages (from -r requirements.txt (line 6)) (2.6.3)\n",
      "Requirement already satisfied: flwr-datasets==0.2.0 in c:\\users\\dell\\appdata\\local\\programs\\python\\python311\\lib\\site-packages (from flwr-datasets[vision]==0.2.0->-r requirements.txt (line 7)) (0.2.0)\n",
      "Requirement already satisfied: torch==2.2.1 in c:\\users\\dell\\appdata\\local\\programs\\python\\python311\\lib\\site-packages (from -r requirements.txt (line 8)) (2.2.1)\n",
      "Requirement already satisfied: torchvision==0.17.1 in c:\\users\\dell\\appdata\\local\\programs\\python\\python311\\lib\\site-packages (from -r requirements.txt (line 9)) (0.17.1)\n",
      "Requirement already satisfied: matplotlib==3.8.3 in c:\\users\\dell\\appdata\\local\\programs\\python\\python311\\lib\\site-packages (from -r requirements.txt (line 10)) (3.8.3)\n",
      "Requirement already satisfied: scikit-learn==1.4.2 in c:\\users\\dell\\appdata\\local\\programs\\python\\python311\\lib\\site-packages (from -r requirements.txt (line 11)) (1.4.2)\n",
      "Requirement already satisfied: seaborn==0.13.2 in c:\\users\\dell\\appdata\\local\\programs\\python\\python311\\lib\\site-packages (from -r requirements.txt (line 12)) (0.13.2)\n",
      "Requirement already satisfied: ipywidgets==8.1.2 in c:\\users\\dell\\appdata\\local\\programs\\python\\python311\\lib\\site-packages (from -r requirements.txt (line 13)) (8.1.2)\n",
      "Requirement already satisfied: transformers==4.42.4 in c:\\users\\dell\\appdata\\local\\programs\\python\\python311\\lib\\site-packages (from -r requirements.txt (line 14)) (4.42.4)\n",
      "Requirement already satisfied: accelerate==0.30.0 in c:\\users\\dell\\appdata\\local\\programs\\python\\python311\\lib\\site-packages (from -r requirements.txt (line 15)) (0.30.0)\n",
      "Requirement already satisfied: cryptography<43.0.0,>=42.0.4 in c:\\users\\dell\\appdata\\local\\programs\\python\\python311\\lib\\site-packages (from flwr==1.10.0->-r requirements.txt (line 5)) (42.0.8)\n",
      "Requirement already satisfied: grpcio!=1.64.2,!=1.65.1,<2.0.0,>=1.60.0 in c:\\users\\dell\\appdata\\local\\programs\\python\\python311\\lib\\site-packages (from flwr==1.10.0->-r requirements.txt (line 5)) (1.68.0)\n",
      "Requirement already satisfied: iterators<0.0.3,>=0.0.2 in c:\\users\\dell\\appdata\\local\\programs\\python\\python311\\lib\\site-packages (from flwr==1.10.0->-r requirements.txt (line 5)) (0.0.2)\n",
      "Requirement already satisfied: numpy<2.0.0,>=1.21.0 in c:\\users\\dell\\appdata\\local\\programs\\python\\python311\\lib\\site-packages (from flwr==1.10.0->-r requirements.txt (line 5)) (1.26.4)\n",
      "Requirement already satisfied: pathspec<0.13.0,>=0.12.1 in c:\\users\\dell\\appdata\\local\\programs\\python\\python311\\lib\\site-packages (from flwr==1.10.0->-r requirements.txt (line 5)) (0.12.1)\n",
      "Requirement already satisfied: protobuf<5.0.0,>=4.25.2 in c:\\users\\dell\\appdata\\local\\programs\\python\\python311\\lib\\site-packages (from flwr==1.10.0->-r requirements.txt (line 5)) (4.25.7)\n",
      "Requirement already satisfied: pycryptodome<4.0.0,>=3.18.0 in c:\\users\\dell\\appdata\\local\\programs\\python\\python311\\lib\\site-packages (from flwr==1.10.0->-r requirements.txt (line 5)) (3.22.0)\n",
      "Requirement already satisfied: tomli<3.0.0,>=2.0.1 in c:\\users\\dell\\appdata\\local\\programs\\python\\python311\\lib\\site-packages (from flwr==1.10.0->-r requirements.txt (line 5)) (2.2.1)\n",
      "Requirement already satisfied: tomli-w<2.0.0,>=1.0.0 in c:\\users\\dell\\appdata\\local\\programs\\python\\python311\\lib\\site-packages (from flwr==1.10.0->-r requirements.txt (line 5)) (1.2.0)\n",
      "Requirement already satisfied: typer<0.10.0,>=0.9.0 in c:\\users\\dell\\appdata\\local\\programs\\python\\python311\\lib\\site-packages (from typer[all]<0.10.0,>=0.9.0->flwr==1.10.0->-r requirements.txt (line 5)) (0.9.4)\n",
      "Requirement already satisfied: click>=7.0 in c:\\users\\dell\\appdata\\local\\programs\\python\\python311\\lib\\site-packages (from ray==2.6.3->-r requirements.txt (line 6)) (8.1.7)\n",
      "Requirement already satisfied: filelock in c:\\users\\dell\\appdata\\local\\programs\\python\\python311\\lib\\site-packages (from ray==2.6.3->-r requirements.txt (line 6)) (3.0.12)\n",
      "Requirement already satisfied: jsonschema in c:\\users\\dell\\appdata\\local\\programs\\python\\python311\\lib\\site-packages (from ray==2.6.3->-r requirements.txt (line 6)) (4.21.1)\n",
      "Requirement already satisfied: msgpack<2.0.0,>=1.0.0 in c:\\users\\dell\\appdata\\local\\programs\\python\\python311\\lib\\site-packages (from ray==2.6.3->-r requirements.txt (line 6)) (1.1.0)\n",
      "Requirement already satisfied: packaging in c:\\users\\dell\\appdata\\local\\programs\\python\\python311\\lib\\site-packages (from ray==2.6.3->-r requirements.txt (line 6)) (23.2)\n",
      "Requirement already satisfied: pyyaml in c:\\users\\dell\\appdata\\local\\programs\\python\\python311\\lib\\site-packages (from ray==2.6.3->-r requirements.txt (line 6)) (6.0.1)\n",
      "Requirement already satisfied: aiosignal in c:\\users\\dell\\appdata\\local\\programs\\python\\python311\\lib\\site-packages (from ray==2.6.3->-r requirements.txt (line 6)) (1.3.2)\n",
      "Requirement already satisfied: frozenlist in c:\\users\\dell\\appdata\\local\\programs\\python\\python311\\lib\\site-packages (from ray==2.6.3->-r requirements.txt (line 6)) (1.6.0)\n",
      "Requirement already satisfied: requests in c:\\users\\dell\\appdata\\local\\programs\\python\\python311\\lib\\site-packages (from ray==2.6.3->-r requirements.txt (line 6)) (2.32.3)\n",
      "Requirement already satisfied: datasets<2.20.0,>=2.14.6 in c:\\users\\dell\\appdata\\local\\programs\\python\\python311\\lib\\site-packages (from flwr-datasets==0.2.0->flwr-datasets[vision]==0.2.0->-r requirements.txt (line 7)) (2.19.2)\n",
      "Requirement already satisfied: tqdm<5.0.0,>=4.66.1 in c:\\users\\dell\\appdata\\local\\programs\\python\\python311\\lib\\site-packages (from flwr-datasets==0.2.0->flwr-datasets[vision]==0.2.0->-r requirements.txt (line 7)) (4.67.1)\n",
      "Requirement already satisfied: typing-extensions>=4.8.0 in c:\\users\\dell\\appdata\\local\\programs\\python\\python311\\lib\\site-packages (from torch==2.2.1->-r requirements.txt (line 8)) (4.12.2)\n",
      "Requirement already satisfied: sympy in c:\\users\\dell\\appdata\\local\\programs\\python\\python311\\lib\\site-packages (from torch==2.2.1->-r requirements.txt (line 8)) (1.14.0)\n",
      "Requirement already satisfied: networkx in c:\\users\\dell\\appdata\\local\\programs\\python\\python311\\lib\\site-packages (from torch==2.2.1->-r requirements.txt (line 8)) (3.4.2)\n",
      "Requirement already satisfied: jinja2 in c:\\users\\dell\\appdata\\local\\programs\\python\\python311\\lib\\site-packages (from torch==2.2.1->-r requirements.txt (line 8)) (3.1.3)\n",
      "Requirement already satisfied: fsspec in c:\\users\\dell\\appdata\\local\\programs\\python\\python311\\lib\\site-packages (from torch==2.2.1->-r requirements.txt (line 8)) (2024.3.1)\n",
      "Requirement already satisfied: pillow!=8.3.*,>=5.3.0 in c:\\users\\dell\\appdata\\local\\programs\\python\\python311\\lib\\site-packages (from torchvision==0.17.1->-r requirements.txt (line 9)) (9.5.0)\n",
      "Requirement already satisfied: contourpy>=1.0.1 in c:\\users\\dell\\appdata\\local\\programs\\python\\python311\\lib\\site-packages (from matplotlib==3.8.3->-r requirements.txt (line 10)) (1.2.0)\n",
      "Requirement already satisfied: cycler>=0.10 in c:\\users\\dell\\appdata\\local\\programs\\python\\python311\\lib\\site-packages (from matplotlib==3.8.3->-r requirements.txt (line 10)) (0.12.1)\n",
      "Requirement already satisfied: fonttools>=4.22.0 in c:\\users\\dell\\appdata\\local\\programs\\python\\python311\\lib\\site-packages (from matplotlib==3.8.3->-r requirements.txt (line 10)) (4.49.0)\n",
      "Requirement already satisfied: kiwisolver>=1.3.1 in c:\\users\\dell\\appdata\\local\\programs\\python\\python311\\lib\\site-packages (from matplotlib==3.8.3->-r requirements.txt (line 10)) (1.4.5)\n",
      "Requirement already satisfied: pyparsing>=2.3.1 in c:\\users\\dell\\appdata\\local\\programs\\python\\python311\\lib\\site-packages (from matplotlib==3.8.3->-r requirements.txt (line 10)) (3.1.1)\n",
      "Requirement already satisfied: python-dateutil>=2.7 in c:\\users\\dell\\appdata\\local\\programs\\python\\python311\\lib\\site-packages (from matplotlib==3.8.3->-r requirements.txt (line 10)) (2.9.0)\n",
      "Requirement already satisfied: scipy>=1.6.0 in c:\\users\\dell\\appdata\\local\\programs\\python\\python311\\lib\\site-packages (from scikit-learn==1.4.2->-r requirements.txt (line 11)) (1.12.0)\n",
      "Requirement already satisfied: joblib>=1.2.0 in c:\\users\\dell\\appdata\\local\\programs\\python\\python311\\lib\\site-packages (from scikit-learn==1.4.2->-r requirements.txt (line 11)) (1.3.2)\n",
      "Requirement already satisfied: threadpoolctl>=2.0.0 in c:\\users\\dell\\appdata\\local\\programs\\python\\python311\\lib\\site-packages (from scikit-learn==1.4.2->-r requirements.txt (line 11)) (3.4.0)\n",
      "Requirement already satisfied: pandas>=1.2 in c:\\users\\dell\\appdata\\local\\programs\\python\\python311\\lib\\site-packages (from seaborn==0.13.2->-r requirements.txt (line 12)) (2.2.3)\n",
      "Requirement already satisfied: comm>=0.1.3 in c:\\users\\dell\\appdata\\local\\programs\\python\\python311\\lib\\site-packages (from ipywidgets==8.1.2->-r requirements.txt (line 13)) (0.2.1)\n",
      "Requirement already satisfied: ipython>=6.1.0 in c:\\users\\dell\\appdata\\local\\programs\\python\\python311\\lib\\site-packages (from ipywidgets==8.1.2->-r requirements.txt (line 13)) (8.22.1)\n",
      "Requirement already satisfied: traitlets>=4.3.1 in c:\\users\\dell\\appdata\\local\\programs\\python\\python311\\lib\\site-packages (from ipywidgets==8.1.2->-r requirements.txt (line 13)) (5.14.1)\n",
      "Requirement already satisfied: widgetsnbextension~=4.0.10 in c:\\users\\dell\\appdata\\local\\programs\\python\\python311\\lib\\site-packages (from ipywidgets==8.1.2->-r requirements.txt (line 13)) (4.0.10)\n",
      "Requirement already satisfied: jupyterlab-widgets~=3.0.10 in c:\\users\\dell\\appdata\\local\\programs\\python\\python311\\lib\\site-packages (from ipywidgets==8.1.2->-r requirements.txt (line 13)) (3.0.10)\n",
      "Requirement already satisfied: huggingface-hub<1.0,>=0.23.2 in c:\\users\\dell\\appdata\\local\\programs\\python\\python311\\lib\\site-packages (from transformers==4.42.4->-r requirements.txt (line 14)) (0.28.1)\n",
      "Requirement already satisfied: regex!=2019.12.17 in c:\\users\\dell\\appdata\\local\\programs\\python\\python311\\lib\\site-packages (from transformers==4.42.4->-r requirements.txt (line 14)) (2024.11.6)\n",
      "Requirement already satisfied: safetensors>=0.4.1 in c:\\users\\dell\\appdata\\local\\programs\\python\\python311\\lib\\site-packages (from transformers==4.42.4->-r requirements.txt (line 14)) (0.5.2)\n",
      "Requirement already satisfied: tokenizers<0.20,>=0.19 in c:\\users\\dell\\appdata\\local\\programs\\python\\python311\\lib\\site-packages (from transformers==4.42.4->-r requirements.txt (line 14)) (0.19.1)\n",
      "Requirement already satisfied: psutil in c:\\users\\dell\\appdata\\local\\programs\\python\\python311\\lib\\site-packages (from accelerate==0.30.0->-r requirements.txt (line 15)) (5.9.8)\n",
      "Requirement already satisfied: colorama in c:\\users\\dell\\appdata\\local\\programs\\python\\python311\\lib\\site-packages (from click>=7.0->ray==2.6.3->-r requirements.txt (line 6)) (0.4.3)\n",
      "Requirement already satisfied: cffi>=1.12 in c:\\users\\dell\\appdata\\local\\programs\\python\\python311\\lib\\site-packages (from cryptography<43.0.0,>=42.0.4->flwr==1.10.0->-r requirements.txt (line 5)) (1.15.1)\n",
      "Requirement already satisfied: pyarrow>=12.0.0 in c:\\users\\dell\\appdata\\local\\programs\\python\\python311\\lib\\site-packages (from datasets<2.20.0,>=2.14.6->flwr-datasets==0.2.0->flwr-datasets[vision]==0.2.0->-r requirements.txt (line 7)) (18.1.0)\n",
      "Requirement already satisfied: pyarrow-hotfix in c:\\users\\dell\\appdata\\local\\programs\\python\\python311\\lib\\site-packages (from datasets<2.20.0,>=2.14.6->flwr-datasets==0.2.0->flwr-datasets[vision]==0.2.0->-r requirements.txt (line 7)) (0.7)\n",
      "Requirement already satisfied: dill<0.3.9,>=0.3.0 in c:\\users\\dell\\appdata\\local\\programs\\python\\python311\\lib\\site-packages (from datasets<2.20.0,>=2.14.6->flwr-datasets==0.2.0->flwr-datasets[vision]==0.2.0->-r requirements.txt (line 7)) (0.3.8)\n",
      "Requirement already satisfied: xxhash in c:\\users\\dell\\appdata\\local\\programs\\python\\python311\\lib\\site-packages (from datasets<2.20.0,>=2.14.6->flwr-datasets==0.2.0->flwr-datasets[vision]==0.2.0->-r requirements.txt (line 7)) (3.5.0)\n",
      "Requirement already satisfied: multiprocess in c:\\users\\dell\\appdata\\local\\programs\\python\\python311\\lib\\site-packages (from datasets<2.20.0,>=2.14.6->flwr-datasets==0.2.0->flwr-datasets[vision]==0.2.0->-r requirements.txt (line 7)) (0.70.16)\n",
      "Requirement already satisfied: aiohttp in c:\\users\\dell\\appdata\\local\\programs\\python\\python311\\lib\\site-packages (from datasets<2.20.0,>=2.14.6->flwr-datasets==0.2.0->flwr-datasets[vision]==0.2.0->-r requirements.txt (line 7)) (3.11.18)\n",
      "Requirement already satisfied: decorator in c:\\users\\dell\\appdata\\local\\programs\\python\\python311\\lib\\site-packages (from ipython>=6.1.0->ipywidgets==8.1.2->-r requirements.txt (line 13)) (5.1.1)\n",
      "Requirement already satisfied: jedi>=0.16 in c:\\users\\dell\\appdata\\local\\programs\\python\\python311\\lib\\site-packages (from ipython>=6.1.0->ipywidgets==8.1.2->-r requirements.txt (line 13)) (0.19.1)\n",
      "Requirement already satisfied: matplotlib-inline in c:\\users\\dell\\appdata\\local\\programs\\python\\python311\\lib\\site-packages (from ipython>=6.1.0->ipywidgets==8.1.2->-r requirements.txt (line 13)) (0.1.6)\n",
      "Requirement already satisfied: prompt-toolkit<3.1.0,>=3.0.41 in c:\\users\\dell\\appdata\\local\\programs\\python\\python311\\lib\\site-packages (from ipython>=6.1.0->ipywidgets==8.1.2->-r requirements.txt (line 13)) (3.0.43)\n",
      "Requirement already satisfied: pygments>=2.4.0 in c:\\users\\dell\\appdata\\local\\programs\\python\\python311\\lib\\site-packages (from ipython>=6.1.0->ipywidgets==8.1.2->-r requirements.txt (line 13)) (2.17.2)\n",
      "Requirement already satisfied: stack-data in c:\\users\\dell\\appdata\\local\\programs\\python\\python311\\lib\\site-packages (from ipython>=6.1.0->ipywidgets==8.1.2->-r requirements.txt (line 13)) (0.6.3)\n",
      "Requirement already satisfied: pytz>=2020.1 in c:\\users\\dell\\appdata\\local\\programs\\python\\python311\\lib\\site-packages (from pandas>=1.2->seaborn==0.13.2->-r requirements.txt (line 12)) (2024.2)\n",
      "Requirement already satisfied: tzdata>=2022.7 in c:\\users\\dell\\appdata\\local\\programs\\python\\python311\\lib\\site-packages (from pandas>=1.2->seaborn==0.13.2->-r requirements.txt (line 12)) (2024.2)\n",
      "Requirement already satisfied: six>=1.5 in c:\\users\\dell\\appdata\\local\\programs\\python\\python311\\lib\\site-packages (from python-dateutil>=2.7->matplotlib==3.8.3->-r requirements.txt (line 10)) (1.16.0)\n",
      "Requirement already satisfied: charset-normalizer<4,>=2 in c:\\users\\dell\\appdata\\local\\programs\\python\\python311\\lib\\site-packages (from requests->ray==2.6.3->-r requirements.txt (line 6)) (3.3.2)\n",
      "Requirement already satisfied: idna<4,>=2.5 in c:\\users\\dell\\appdata\\local\\programs\\python\\python311\\lib\\site-packages (from requests->ray==2.6.3->-r requirements.txt (line 6)) (2.8)\n",
      "Requirement already satisfied: urllib3<3,>=1.21.1 in c:\\users\\dell\\appdata\\local\\programs\\python\\python311\\lib\\site-packages (from requests->ray==2.6.3->-r requirements.txt (line 6)) (1.25.7)\n",
      "Requirement already satisfied: certifi>=2017.4.17 in c:\\users\\dell\\appdata\\local\\programs\\python\\python311\\lib\\site-packages (from requests->ray==2.6.3->-r requirements.txt (line 6)) (2019.11.28)\n",
      "Requirement already satisfied: shellingham<2.0.0,>=1.3.0 in c:\\users\\dell\\appdata\\local\\programs\\python\\python311\\lib\\site-packages (from typer[all]<0.10.0,>=0.9.0->flwr==1.10.0->-r requirements.txt (line 5)) (1.5.4)\n",
      "Requirement already satisfied: rich<14.0.0,>=10.11.0 in c:\\users\\dell\\appdata\\local\\programs\\python\\python311\\lib\\site-packages (from typer[all]<0.10.0,>=0.9.0->flwr==1.10.0->-r requirements.txt (line 5)) (13.9.4)\n",
      "Requirement already satisfied: MarkupSafe>=2.0 in c:\\users\\dell\\appdata\\local\\programs\\python\\python311\\lib\\site-packages (from jinja2->torch==2.2.1->-r requirements.txt (line 8)) (2.1.5)\n",
      "Requirement already satisfied: attrs>=22.2.0 in c:\\users\\dell\\appdata\\local\\programs\\python\\python311\\lib\\site-packages (from jsonschema->ray==2.6.3->-r requirements.txt (line 6)) (25.3.0)\n",
      "Requirement already satisfied: jsonschema-specifications>=2023.03.6 in c:\\users\\dell\\appdata\\local\\programs\\python\\python311\\lib\\site-packages (from jsonschema->ray==2.6.3->-r requirements.txt (line 6)) (2023.12.1)\n",
      "Requirement already satisfied: referencing>=0.28.4 in c:\\users\\dell\\appdata\\local\\programs\\python\\python311\\lib\\site-packages (from jsonschema->ray==2.6.3->-r requirements.txt (line 6)) (0.33.0)\n",
      "Requirement already satisfied: rpds-py>=0.7.1 in c:\\users\\dell\\appdata\\local\\programs\\python\\python311\\lib\\site-packages (from jsonschema->ray==2.6.3->-r requirements.txt (line 6)) (0.18.0)\n",
      "Requirement already satisfied: mpmath<1.4,>=1.1.0 in c:\\users\\dell\\appdata\\local\\programs\\python\\python311\\lib\\site-packages (from sympy->torch==2.2.1->-r requirements.txt (line 8)) (1.3.0)\n",
      "Requirement already satisfied: pycparser in c:\\users\\dell\\appdata\\local\\programs\\python\\python311\\lib\\site-packages (from cffi>=1.12->cryptography<43.0.0,>=42.0.4->flwr==1.10.0->-r requirements.txt (line 5)) (2.21)\n",
      "Requirement already satisfied: aiohappyeyeballs>=2.3.0 in c:\\users\\dell\\appdata\\local\\programs\\python\\python311\\lib\\site-packages (from aiohttp->datasets<2.20.0,>=2.14.6->flwr-datasets==0.2.0->flwr-datasets[vision]==0.2.0->-r requirements.txt (line 7)) (2.6.1)\n",
      "Requirement already satisfied: multidict<7.0,>=4.5 in c:\\users\\dell\\appdata\\local\\programs\\python\\python311\\lib\\site-packages (from aiohttp->datasets<2.20.0,>=2.14.6->flwr-datasets==0.2.0->flwr-datasets[vision]==0.2.0->-r requirements.txt (line 7)) (6.4.3)\n",
      "Requirement already satisfied: propcache>=0.2.0 in c:\\users\\dell\\appdata\\local\\programs\\python\\python311\\lib\\site-packages (from aiohttp->datasets<2.20.0,>=2.14.6->flwr-datasets==0.2.0->flwr-datasets[vision]==0.2.0->-r requirements.txt (line 7)) (0.3.1)\n",
      "Requirement already satisfied: yarl<2.0,>=1.17.0 in c:\\users\\dell\\appdata\\local\\programs\\python\\python311\\lib\\site-packages (from aiohttp->datasets<2.20.0,>=2.14.6->flwr-datasets==0.2.0->flwr-datasets[vision]==0.2.0->-r requirements.txt (line 7)) (1.20.0)\n",
      "Requirement already satisfied: parso<0.9.0,>=0.8.3 in c:\\users\\dell\\appdata\\local\\programs\\python\\python311\\lib\\site-packages (from jedi>=0.16->ipython>=6.1.0->ipywidgets==8.1.2->-r requirements.txt (line 13)) (0.8.3)\n",
      "Requirement already satisfied: wcwidth in c:\\users\\dell\\appdata\\local\\programs\\python\\python311\\lib\\site-packages (from prompt-toolkit<3.1.0,>=3.0.41->ipython>=6.1.0->ipywidgets==8.1.2->-r requirements.txt (line 13)) (0.2.13)\n",
      "Requirement already satisfied: markdown-it-py>=2.2.0 in c:\\users\\dell\\appdata\\local\\programs\\python\\python311\\lib\\site-packages (from rich<14.0.0,>=10.11.0->typer[all]<0.10.0,>=0.9.0->flwr==1.10.0->-r requirements.txt (line 5)) (3.0.0)\n",
      "Requirement already satisfied: executing>=1.2.0 in c:\\users\\dell\\appdata\\local\\programs\\python\\python311\\lib\\site-packages (from stack-data->ipython>=6.1.0->ipywidgets==8.1.2->-r requirements.txt (line 13)) (2.0.1)\n",
      "Requirement already satisfied: asttokens>=2.1.0 in c:\\users\\dell\\appdata\\local\\programs\\python\\python311\\lib\\site-packages (from stack-data->ipython>=6.1.0->ipywidgets==8.1.2->-r requirements.txt (line 13)) (2.4.1)\n",
      "Requirement already satisfied: pure-eval in c:\\users\\dell\\appdata\\local\\programs\\python\\python311\\lib\\site-packages (from stack-data->ipython>=6.1.0->ipywidgets==8.1.2->-r requirements.txt (line 13)) (0.2.2)\n",
      "Requirement already satisfied: mdurl~=0.1 in c:\\users\\dell\\appdata\\local\\programs\\python\\python311\\lib\\site-packages (from markdown-it-py>=2.2.0->rich<14.0.0,>=10.11.0->typer[all]<0.10.0,>=0.9.0->flwr==1.10.0->-r requirements.txt (line 5)) (0.1.2)\n"
     ]
    },
    {
     "name": "stderr",
     "output_type": "stream",
     "text": [
      "\n",
      "[notice] A new release of pip is available: 24.0 -> 25.1.1\n",
      "[notice] To update, run: python.exe -m pip install --upgrade pip\n"
     ]
    }
   ],
   "source": [
    "!pip install -r requirements.txt"
   ]
  },
  {
   "cell_type": "markdown",
   "id": "b5f578c4",
   "metadata": {},
   "source": [
    "Welcome to Lesson 5!\n",
    "\n",
    "To access the `requirements.txt` and `utils5.py` file for this course, go to `File` and click `Open`."
   ]
  },
  {
   "cell_type": "markdown",
   "id": "25b96f7b",
   "metadata": {},
   "source": [
    "#### 1. Load imports"
   ]
  },
  {
   "cell_type": "code",
   "execution_count": 2,
   "id": "8aa549fb",
   "metadata": {},
   "outputs": [],
   "source": [
    "import sys\n",
    "import os\n",
    "sys.path.insert(0, os.getcwd())  # Ajoute le dossier courant au chemin Python\n"
   ]
  },
  {
   "cell_type": "code",
   "execution_count": 3,
   "id": "4bc861ea-21bb-45a8-8196-a5b0d0ace374",
   "metadata": {
    "height": 64
   },
   "outputs": [],
   "source": [
    "from flwr.client.mod import parameters_size_mod\n",
    "\n",
    "from utils5 import *"
   ]
  },
  {
   "cell_type": "markdown",
   "id": "9a45205f",
   "metadata": {},
   "source": [
    "#### 2.  Define the model"
   ]
  },
  {
   "cell_type": "markdown",
   "id": "801d9e47",
   "metadata": {},
   "source": [
    "*  Initialize the model."
   ]
  },
  {
   "cell_type": "code",
   "execution_count": 4,
   "id": "bb82dbc0-cb85-408c-ac0f-265af010bfea",
   "metadata": {
    "height": 81
   },
   "outputs": [
    {
     "name": "stderr",
     "output_type": "stream",
     "text": [
      "c:\\Users\\Dell\\AppData\\Local\\Programs\\Python\\Python311\\Lib\\site-packages\\urllib3\\connection.py:430: DeprecationWarning: ssl.match_hostname() is deprecated\n",
      "  match_hostname(cert, asserted_hostname)\n"
     ]
    }
   ],
   "source": [
    "model = AutoModelForCausalLM.from_pretrained(\n",
    "    \"EleutherAI/pythia-14m\",\n",
    "    cache_dir=\"./pythia-14m/cache\",\n",
    ")"
   ]
  },
  {
   "cell_type": "markdown",
   "id": "37b51a54",
   "metadata": {},
   "source": [
    "Find more information about [EleutherAI/pythia-14m](https://huggingface.co/EleutherAI/pythia-14m)"
   ]
  },
  {
   "cell_type": "markdown",
   "id": "6159b23d",
   "metadata": {},
   "source": [
    "* Get some Model values."
   ]
  },
  {
   "cell_type": "code",
   "execution_count": 5,
   "id": "973616a4-8b73-41b8-bc9d-4abbbc74502d",
   "metadata": {
    "height": 98
   },
   "outputs": [
    {
     "name": "stderr",
     "output_type": "stream",
     "text": [
      "\u001b[92mINFO \u001b[0m: Model size is: 53 MB\n"
     ]
    }
   ],
   "source": [
    "vals = model.state_dict().values()\n",
    "total_size_bytes = sum(p.element_size() * p.numel() for p in vals)\n",
    "total_size_mb = int(total_size_bytes / (1024**2))\n",
    "\n",
    "log(INFO, \"Model size is: {} MB\".format(total_size_mb))"
   ]
  },
  {
   "cell_type": "markdown",
   "id": "6ccf308f",
   "metadata": {},
   "source": [
    "* Define the FlowerClient."
   ]
  },
  {
   "cell_type": "code",
   "execution_count": 6,
   "id": "ea907386-ef03-46a5-bbe3-05414dee7b4b",
   "metadata": {
    "height": 404
   },
   "outputs": [],
   "source": [
    "class FlowerClient(NumPyClient):\n",
    "    def __init__(self, net):\n",
    "        self.net = net\n",
    "\n",
    "    def fit(self, parameters, config):\n",
    "        set_weights(self.net, parameters)\n",
    "        # No actual training here\n",
    "        return get_weights(self.net), 1, {}\n",
    "\n",
    "    def evaluate(self, parameters, config):\n",
    "        set_weights(self.net, parameters)\n",
    "        # No actual evaluation here\n",
    "        return float(0), int(1), {\"accuracy\": 0}\n",
    "\n",
    "\n",
    "def client_fn(context: Context) -> FlowerClient:\n",
    "    return FlowerClient(model).to_client()\n",
    "\n",
    "\n",
    "client = ClientApp(\n",
    "    client_fn,\n",
    "    mods=[parameters_size_mod],\n",
    ")"
   ]
  },
  {
   "cell_type": "markdown",
   "id": "4ffa0f64",
   "metadata": {},
   "source": [
    "* Define the custom strategy: BandwidthTrackingFedAvg."
   ]
  },
  {
   "cell_type": "code",
   "execution_count": 7,
   "id": "95213409-e47d-4415-b69f-9bfb5498aaf4",
   "metadata": {
    "height": 572
   },
   "outputs": [],
   "source": [
    "bandwidth_sizes = []\n",
    "\n",
    "\n",
    "class BandwidthTrackingFedAvg(FedAvg):\n",
    "    def aggregate_fit(self, server_round, results, failures):\n",
    "        if not results:\n",
    "            return None, {}\n",
    "\n",
    "        # Track sizes of models received\n",
    "        for _, res in results:\n",
    "            ndas = parameters_to_ndarrays(res.parameters)\n",
    "            size = int(sum(n.nbytes for n in ndas) / (1024**2))\n",
    "            log(INFO, f\"Server receiving model size: {size} MB\")\n",
    "            bandwidth_sizes.append(size)\n",
    "\n",
    "        # Call FedAvg for actual aggregation\n",
    "        return super().aggregate_fit(server_round, results, failures)\n",
    "\n",
    "    def configure_fit(self, server_round, parameters, client_manager):\n",
    "        # Call FedAvg for actual configuration\n",
    "        instructions = super().configure_fit(\n",
    "            server_round, parameters, client_manager\n",
    "        )\n",
    "\n",
    "        # Track sizes of models to be sent\n",
    "        for _, ins in instructions:\n",
    "            ndas = parameters_to_ndarrays(ins.parameters)\n",
    "            size = int(sum(n.nbytes for n in ndas) / (1024**2))\n",
    "            log(INFO, f\"Server sending model size: {size} MB\")\n",
    "            bandwidth_sizes.append(size)\n",
    "\n",
    "        return instructions"
   ]
  },
  {
   "cell_type": "code",
   "execution_count": 8,
   "id": "d0166979-2cc2-44ac-89dd-e9bc05c941e9",
   "metadata": {
    "height": 268
   },
   "outputs": [],
   "source": [
    "params = ndarrays_to_parameters(get_weights(model))\n",
    "\n",
    "def server_fn(context: Context):\n",
    "    strategy = BandwidthTrackingFedAvg(\n",
    "        fraction_evaluate=0.0,\n",
    "        initial_parameters=params,\n",
    "    )\n",
    "    config = ServerConfig(num_rounds=1)\n",
    "    return ServerAppComponents(\n",
    "        strategy=strategy,\n",
    "        config=config,\n",
    "    )\n",
    "\n",
    "\n",
    "server = ServerApp(server_fn=server_fn)"
   ]
  },
  {
   "cell_type": "markdown",
   "id": "ab4e469b",
   "metadata": {},
   "source": [
    "* Run the simulation."
   ]
  },
  {
   "cell_type": "code",
   "execution_count": 9,
   "id": "c4cddbee-f017-4ad1-b6e1-2a81b857fcef",
   "metadata": {
    "height": 98
   },
   "outputs": [
    {
     "name": "stderr",
     "output_type": "stream",
     "text": [
      "\u001b[92mINFO \u001b[0m: Starting Flower ServerApp, config: num_rounds=1, no round_timeout\n",
      "\u001b[92mINFO \u001b[0m: \n",
      "\u001b[92mINFO \u001b[0m: [INIT]\n",
      "\u001b[92mINFO \u001b[0m: Using initial global parameters provided by strategy\n",
      "\u001b[92mINFO \u001b[0m: Evaluating initial global parameters\n",
      "\u001b[92mINFO \u001b[0m: \n",
      "\u001b[92mINFO \u001b[0m: [ROUND 1]\n",
      "\u001b[92mINFO \u001b[0m: Server sending model size: 53 MB\n",
      "\u001b[92mINFO \u001b[0m: Server sending model size: 53 MB\n",
      "\u001b[92mINFO \u001b[0m: configure_fit: strategy sampled 2 clients (out of 2)\n",
      "\u001b[2m\u001b[36m(pid=6884)\u001b[0m 2025-05-14 10:43:38.371827: I tensorflow/core/util/port.cc:153] oneDNN custom operations are on. You may see slightly different numerical results due to floating-point round-off errors from different computation orders. To turn them off, set the e\n",
      "\u001b[2m\u001b[36m(pid=6884)\u001b[0m n\n",
      "\u001b[2m\u001b[36m(pid=6884)\u001b[0m v\n",
      "\u001b[2m\u001b[36m(pid=6884)\u001b[0m i\n",
      "\u001b[2m\u001b[36m(pid=21644)\u001b[0m 2025-05-14 10:43:38.352888: I tensorflow/core/util/port.cc:153] oneDNN custom operations are on. You may see slightly different numerical results due to floating-point round-off errors from different computation orders. To turn them off, set the environment variable `TF_ENABLE_ONEDNN_OPTS=0`.\n",
      "\u001b[2m\u001b[36m(pid=36648)\u001b[0m 2025-05-14 10:43:38.383159: I tensorflow/core/util/port.cc:153] oneDNN custom operations are on. You may see slightly different numerical results due to floating-point round-off errors from different computation orders. To turn them off, set the environment variable `TF_ENABLE_O\n",
      "\u001b[2m\u001b[36m(pid=36648)\u001b[0m N\n",
      "\u001b[2m\u001b[36m(pid=6884)\u001b[0m ronment variable `TF_ENABLE_ONEDNN_OPTS=0`.\n",
      "\u001b[2m\u001b[36m(pid=36648)\u001b[0m EDNN_OPTS=0`.\n",
      "\u001b[2m\u001b[36m(ClientAppActor pid=36648)\u001b[0m No module named 'utils5'\n",
      "\u001b[2m\u001b[36m(ClientAppActor pid=36648)\u001b[0m Traceback (most recent call last):\n",
      "\u001b[2m\u001b[36m(ClientAppActor pid=36648)\u001b[0m   File \"c:\\Users\\Dell\\AppData\\Local\\Programs\\Python\\Python311\\Lib\\site-packages\\ray\\_private\\serialization.py\", line 387, in deserialize_objects\n",
      "\u001b[2m\u001b[36m(ClientAppActor pid=36648)\u001b[0m     obj = self._deserialize_object(data, metadata, object_ref)\n",
      "\u001b[2m\u001b[36m(ClientAppActor pid=36648)\u001b[0m           ^^^^^^^^^^^^^^^^^^^^^^^^^^^^^^^^^^^^^^^^^^^^^^^^^^^^\n",
      "\u001b[2m\u001b[36m(ClientAppActor pid=36648)\u001b[0m   File \"c:\\Users\\Dell\\AppData\\Local\\Programs\\Python\\Python311\\Lib\\site-packages\\ray\\_private\\serialization.py\", line 268, in _deserialize_object\n",
      "\u001b[2m\u001b[36m(ClientAppActor pid=36648)\u001b[0m     return self._deserialize_msgpack_data(data, metadata_fields)\n",
      "\u001b[2m\u001b[36m(ClientAppActor pid=36648)\u001b[0m            ^^^^^^^^^^^^^^^^^^^^^^^^^^^^^^^^^^^^^^^^^^^^^^^^^^^^^\n",
      "\u001b[2m\u001b[36m(ClientAppActor pid=36648)\u001b[0m   File \"c:\\Users\\Dell\\AppData\\Local\\Programs\\Python\\Python311\\Lib\\site-packages\\ray\\_private\\serialization.py\", line 223, in _deserialize_msgpack_data\n",
      "\u001b[2m\u001b[36m(ClientAppActor pid=36648)\u001b[0m     python_objects = self._deserialize_pickle5_data(pickle5_data)\n",
      "\u001b[2m\u001b[36m(ClientAppActor pid=36648)\u001b[0m                      ^^^^^^^^^^^^^^^^^^^^^^^^^^^^^^^^^^^^^^^^^^^^\n",
      "\u001b[2m\u001b[36m(ClientAppActor pid=36648)\u001b[0m   File \"c:\\Users\\Dell\\AppData\\Local\\Programs\\Python\\Python311\\Lib\\site-packages\\ray\\_private\\serialization.py\", line 213, in _deserialize_pickle5_data\n",
      "\u001b[2m\u001b[36m(ClientAppActor pid=36648)\u001b[0m     obj = pickle.loads(in_band)\n",
      "\u001b[2m\u001b[36m(ClientAppActor pid=36648)\u001b[0m           ^^^^^^^^^^^^^^^^^^^^^\n",
      "\u001b[2m\u001b[36m(ClientAppActor pid=36648)\u001b[0m ModuleNotFoundError: No module named 'utils5'\n",
      "\u001b[2m\u001b[36m(pid=43288)\u001b[0m 2025-05-14 10:43:40.617248: I tensorflow/core/util/port.cc:153] oneDNN custom operations are on. You may see slightly different numerical results due to floating-point round-off errors from different computation orders. To turn them off, set the environment variable `TF_ENABLE_ONEDNN_OPTS=0`.\u001b[32m [repeated 5x across cluster] (Ray deduplicates logs by default. Set RAY_DEDUP_LOGS=0 to disable log deduplication, or see https://docs.ray.io/en/master/ray-observability/ray-logging.html#log-deduplication for more options.)\u001b[0m\n",
      "\u001b[92mINFO \u001b[0m: aggregate_fit: received 0 results and 2 failures\n",
      "\u001b[92mINFO \u001b[0m: configure_evaluate: no clients selected, skipping evaluation\n",
      "\u001b[92mINFO \u001b[0m: \n",
      "\u001b[92mINFO \u001b[0m: [SUMMARY]\n",
      "\u001b[92mINFO \u001b[0m: Run finished 1 round(s) in 30.31s\n",
      "\u001b[92mINFO \u001b[0m: \n",
      "\u001b[2m\u001b[36m(ClientAppActor pid=43288)\u001b[0m No module named 'utils5'\n",
      "\u001b[2m\u001b[36m(ClientAppActor pid=43288)\u001b[0m Traceback (most recent call last):\n",
      "\u001b[2m\u001b[36m(ClientAppActor pid=43288)\u001b[0m   File \"c:\\Users\\Dell\\AppData\\Local\\Programs\\Python\\Python311\\Lib\\site-packages\\ray\\_private\\serialization.py\", line 387, in deserialize_objects\n",
      "\u001b[2m\u001b[36m(ClientAppActor pid=43288)\u001b[0m     obj = self._deserialize_object(data, metadata, object_ref)\n",
      "\u001b[2m\u001b[36m(ClientAppActor pid=43288)\u001b[0m           ^^^^^^^^^^^^^^^^^^^^^^^^^^^^^^^^^^^^^^^^^^^^^^^^^^^^\n",
      "\u001b[2m\u001b[36m(ClientAppActor pid=43288)\u001b[0m   File \"c:\\Users\\Dell\\AppData\\Local\\Programs\\Python\\Python311\\Lib\\site-packages\\ray\\_private\\serialization.py\", line 268, in _deserialize_object\n",
      "\u001b[2m\u001b[36m(ClientAppActor pid=43288)\u001b[0m     return self._deserialize_msgpack_data(data, metadata_fields)\n",
      "\u001b[2m\u001b[36m(ClientAppActor pid=43288)\u001b[0m            ^^^^^^^^^^^^^^^^^^^^^^^^^^^^^^^^^^^^^^^^^^^^^^^^^^^^^\n",
      "\u001b[2m\u001b[36m(ClientAppActor pid=43288)\u001b[0m   File \"c:\\Users\\Dell\\AppData\\Local\\Programs\\Python\\Python311\\Lib\\site-packages\\ray\\_private\\serialization.py\", line 223, in _deserialize_msgpack_data\n",
      "\u001b[2m\u001b[36m(ClientAppActor pid=43288)\u001b[0m     python_objects = self._deserialize_pickle5_data(pickle5_data)\n",
      "\u001b[2m\u001b[36m(ClientAppActor pid=43288)\u001b[0m                      ^^^^^^^^^^^^^^^^^^^^^^^^^^^^^^^^^^^^^^^^^^^^\n",
      "\u001b[2m\u001b[36m(ClientAppActor pid=43288)\u001b[0m   File \"c:\\Users\\Dell\\AppData\\Local\\Programs\\Python\\Python311\\Lib\\site-packages\\ray\\_private\\serialization.py\", line 213, in _deserialize_pickle5_data\n",
      "\u001b[2m\u001b[36m(ClientAppActor pid=43288)\u001b[0m     obj = pickle.loads(in_band)\n",
      "\u001b[2m\u001b[36m(ClientAppActor pid=43288)\u001b[0m           ^^^^^^^^^^^^^^^^^^^^^\n",
      "\u001b[2m\u001b[36m(ClientAppActor pid=43288)\u001b[0m ModuleNotFoundError: No module named 'utils5'\n"
     ]
    }
   ],
   "source": [
    "run_simulation(server_app=server,\n",
    "               client_app=client,\n",
    "               num_supernodes=2,\n",
    "               backend_config=backend_setup\n",
    "               )"
   ]
  },
  {
   "cell_type": "markdown",
   "id": "30d64b93",
   "metadata": {},
   "source": [
    "* Log how much bandwidth was used!"
   ]
  },
  {
   "cell_type": "code",
   "execution_count": 10,
   "id": "d49b2f6d-91eb-4161-b86e-74d897cb725a",
   "metadata": {
    "height": 45
   },
   "outputs": [
    {
     "name": "stderr",
     "output_type": "stream",
     "text": [
      "\u001b[92mINFO \u001b[0m: Total bandwidth used: 106 MB\n"
     ]
    }
   ],
   "source": [
    "log(INFO, \"Total bandwidth used: {} MB\".format(sum(bandwidth_sizes)))"
   ]
  }
 ],
 "metadata": {
  "kernelspec": {
   "display_name": "Python 3",
   "language": "python",
   "name": "python3"
  },
  "language_info": {
   "codemirror_mode": {
    "name": "ipython",
    "version": 3
   },
   "file_extension": ".py",
   "mimetype": "text/x-python",
   "name": "python",
   "nbconvert_exporter": "python",
   "pygments_lexer": "ipython3",
   "version": "3.11.5"
  }
 },
 "nbformat": 4,
 "nbformat_minor": 5
}
