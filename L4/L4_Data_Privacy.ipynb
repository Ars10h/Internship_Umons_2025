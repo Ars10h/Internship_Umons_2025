{
 "cells": [
  {
   "cell_type": "markdown",
   "id": "7292677e",
   "metadata": {},
   "source": [
    "# Lesson 4: Data Privacy"
   ]
  },
  {
   "cell_type": "markdown",
   "id": "ef8e93b3",
   "metadata": {},
   "source": [
    "Welcome to Lesson 4!\n",
    "\n",
    "To access the `requirements.txt` and `utils4.py` file for this course, go to `File` and click `Open`."
   ]
  },
  {
   "cell_type": "code",
   "execution_count": 1,
   "id": "ba1b9cb5",
   "metadata": {},
   "outputs": [
    {
     "name": "stdout",
     "output_type": "stream",
     "text": [
      "Requirement already satisfied: flwr==1.10.0 in c:\\users\\dell\\appdata\\local\\programs\\python\\python311\\lib\\site-packages (from -r requirements.txt (line 5)) (1.10.0)\n",
      "Requirement already satisfied: ray==2.6.3 in c:\\users\\dell\\appdata\\local\\programs\\python\\python311\\lib\\site-packages (from -r requirements.txt (line 6)) (2.6.3)\n",
      "Requirement already satisfied: flwr-datasets==0.2.0 in c:\\users\\dell\\appdata\\local\\programs\\python\\python311\\lib\\site-packages (from flwr-datasets[vision]==0.2.0->-r requirements.txt (line 7)) (0.2.0)\n",
      "Requirement already satisfied: torch==2.2.1 in c:\\users\\dell\\appdata\\local\\programs\\python\\python311\\lib\\site-packages (from -r requirements.txt (line 8)) (2.2.1)\n",
      "Requirement already satisfied: torchvision==0.17.1 in c:\\users\\dell\\appdata\\local\\programs\\python\\python311\\lib\\site-packages (from -r requirements.txt (line 9)) (0.17.1)\n",
      "Requirement already satisfied: matplotlib==3.8.3 in c:\\users\\dell\\appdata\\local\\programs\\python\\python311\\lib\\site-packages (from -r requirements.txt (line 10)) (3.8.3)\n",
      "Requirement already satisfied: scikit-learn==1.4.2 in c:\\users\\dell\\appdata\\local\\programs\\python\\python311\\lib\\site-packages (from -r requirements.txt (line 11)) (1.4.2)\n",
      "Requirement already satisfied: seaborn==0.13.2 in c:\\users\\dell\\appdata\\local\\programs\\python\\python311\\lib\\site-packages (from -r requirements.txt (line 12)) (0.13.2)\n",
      "Requirement already satisfied: ipywidgets==8.1.2 in c:\\users\\dell\\appdata\\local\\programs\\python\\python311\\lib\\site-packages (from -r requirements.txt (line 13)) (8.1.2)\n",
      "Requirement already satisfied: transformers==4.42.4 in c:\\users\\dell\\appdata\\local\\programs\\python\\python311\\lib\\site-packages (from -r requirements.txt (line 14)) (4.42.4)\n",
      "Requirement already satisfied: accelerate==0.30.0 in c:\\users\\dell\\appdata\\local\\programs\\python\\python311\\lib\\site-packages (from -r requirements.txt (line 15)) (0.30.0)\n",
      "Requirement already satisfied: cryptography<43.0.0,>=42.0.4 in c:\\users\\dell\\appdata\\local\\programs\\python\\python311\\lib\\site-packages (from flwr==1.10.0->-r requirements.txt (line 5)) (42.0.8)\n",
      "Requirement already satisfied: grpcio!=1.64.2,!=1.65.1,<2.0.0,>=1.60.0 in c:\\users\\dell\\appdata\\local\\programs\\python\\python311\\lib\\site-packages (from flwr==1.10.0->-r requirements.txt (line 5)) (1.68.0)\n",
      "Requirement already satisfied: iterators<0.0.3,>=0.0.2 in c:\\users\\dell\\appdata\\local\\programs\\python\\python311\\lib\\site-packages (from flwr==1.10.0->-r requirements.txt (line 5)) (0.0.2)\n",
      "Requirement already satisfied: numpy<2.0.0,>=1.21.0 in c:\\users\\dell\\appdata\\local\\programs\\python\\python311\\lib\\site-packages (from flwr==1.10.0->-r requirements.txt (line 5)) (1.26.4)\n",
      "Requirement already satisfied: pathspec<0.13.0,>=0.12.1 in c:\\users\\dell\\appdata\\local\\programs\\python\\python311\\lib\\site-packages (from flwr==1.10.0->-r requirements.txt (line 5)) (0.12.1)\n",
      "Requirement already satisfied: protobuf<5.0.0,>=4.25.2 in c:\\users\\dell\\appdata\\local\\programs\\python\\python311\\lib\\site-packages (from flwr==1.10.0->-r requirements.txt (line 5)) (4.25.7)\n",
      "Requirement already satisfied: pycryptodome<4.0.0,>=3.18.0 in c:\\users\\dell\\appdata\\local\\programs\\python\\python311\\lib\\site-packages (from flwr==1.10.0->-r requirements.txt (line 5)) (3.22.0)\n",
      "Requirement already satisfied: tomli<3.0.0,>=2.0.1 in c:\\users\\dell\\appdata\\local\\programs\\python\\python311\\lib\\site-packages (from flwr==1.10.0->-r requirements.txt (line 5)) (2.2.1)\n",
      "Requirement already satisfied: tomli-w<2.0.0,>=1.0.0 in c:\\users\\dell\\appdata\\local\\programs\\python\\python311\\lib\\site-packages (from flwr==1.10.0->-r requirements.txt (line 5)) (1.2.0)\n",
      "Requirement already satisfied: typer<0.10.0,>=0.9.0 in c:\\users\\dell\\appdata\\local\\programs\\python\\python311\\lib\\site-packages (from typer[all]<0.10.0,>=0.9.0->flwr==1.10.0->-r requirements.txt (line 5)) (0.9.4)\n",
      "Requirement already satisfied: click>=7.0 in c:\\users\\dell\\appdata\\local\\programs\\python\\python311\\lib\\site-packages (from ray==2.6.3->-r requirements.txt (line 6)) (8.1.7)\n",
      "Requirement already satisfied: filelock in c:\\users\\dell\\appdata\\local\\programs\\python\\python311\\lib\\site-packages (from ray==2.6.3->-r requirements.txt (line 6)) (3.0.12)\n",
      "Requirement already satisfied: jsonschema in c:\\users\\dell\\appdata\\local\\programs\\python\\python311\\lib\\site-packages (from ray==2.6.3->-r requirements.txt (line 6)) (4.21.1)\n",
      "Requirement already satisfied: msgpack<2.0.0,>=1.0.0 in c:\\users\\dell\\appdata\\local\\programs\\python\\python311\\lib\\site-packages (from ray==2.6.3->-r requirements.txt (line 6)) (1.1.0)\n",
      "Requirement already satisfied: packaging in c:\\users\\dell\\appdata\\local\\programs\\python\\python311\\lib\\site-packages (from ray==2.6.3->-r requirements.txt (line 6)) (23.2)\n",
      "Requirement already satisfied: pyyaml in c:\\users\\dell\\appdata\\local\\programs\\python\\python311\\lib\\site-packages (from ray==2.6.3->-r requirements.txt (line 6)) (6.0.1)\n",
      "Requirement already satisfied: aiosignal in c:\\users\\dell\\appdata\\local\\programs\\python\\python311\\lib\\site-packages (from ray==2.6.3->-r requirements.txt (line 6)) (1.3.2)\n",
      "Requirement already satisfied: frozenlist in c:\\users\\dell\\appdata\\local\\programs\\python\\python311\\lib\\site-packages (from ray==2.6.3->-r requirements.txt (line 6)) (1.6.0)\n",
      "Requirement already satisfied: requests in c:\\users\\dell\\appdata\\local\\programs\\python\\python311\\lib\\site-packages (from ray==2.6.3->-r requirements.txt (line 6)) (2.32.3)\n",
      "Requirement already satisfied: datasets<2.20.0,>=2.14.6 in c:\\users\\dell\\appdata\\local\\programs\\python\\python311\\lib\\site-packages (from flwr-datasets==0.2.0->flwr-datasets[vision]==0.2.0->-r requirements.txt (line 7)) (2.19.2)\n",
      "Requirement already satisfied: tqdm<5.0.0,>=4.66.1 in c:\\users\\dell\\appdata\\local\\programs\\python\\python311\\lib\\site-packages (from flwr-datasets==0.2.0->flwr-datasets[vision]==0.2.0->-r requirements.txt (line 7)) (4.67.1)\n",
      "Requirement already satisfied: typing-extensions>=4.8.0 in c:\\users\\dell\\appdata\\local\\programs\\python\\python311\\lib\\site-packages (from torch==2.2.1->-r requirements.txt (line 8)) (4.12.2)\n",
      "Requirement already satisfied: sympy in c:\\users\\dell\\appdata\\local\\programs\\python\\python311\\lib\\site-packages (from torch==2.2.1->-r requirements.txt (line 8)) (1.14.0)\n",
      "Requirement already satisfied: networkx in c:\\users\\dell\\appdata\\local\\programs\\python\\python311\\lib\\site-packages (from torch==2.2.1->-r requirements.txt (line 8)) (3.4.2)\n",
      "Requirement already satisfied: jinja2 in c:\\users\\dell\\appdata\\local\\programs\\python\\python311\\lib\\site-packages (from torch==2.2.1->-r requirements.txt (line 8)) (3.1.3)\n",
      "Requirement already satisfied: fsspec in c:\\users\\dell\\appdata\\local\\programs\\python\\python311\\lib\\site-packages (from torch==2.2.1->-r requirements.txt (line 8)) (2024.3.1)\n",
      "Requirement already satisfied: pillow!=8.3.*,>=5.3.0 in c:\\users\\dell\\appdata\\local\\programs\\python\\python311\\lib\\site-packages (from torchvision==0.17.1->-r requirements.txt (line 9)) (9.5.0)\n",
      "Requirement already satisfied: contourpy>=1.0.1 in c:\\users\\dell\\appdata\\local\\programs\\python\\python311\\lib\\site-packages (from matplotlib==3.8.3->-r requirements.txt (line 10)) (1.2.0)\n",
      "Requirement already satisfied: cycler>=0.10 in c:\\users\\dell\\appdata\\local\\programs\\python\\python311\\lib\\site-packages (from matplotlib==3.8.3->-r requirements.txt (line 10)) (0.12.1)\n",
      "Requirement already satisfied: fonttools>=4.22.0 in c:\\users\\dell\\appdata\\local\\programs\\python\\python311\\lib\\site-packages (from matplotlib==3.8.3->-r requirements.txt (line 10)) (4.49.0)\n",
      "Requirement already satisfied: kiwisolver>=1.3.1 in c:\\users\\dell\\appdata\\local\\programs\\python\\python311\\lib\\site-packages (from matplotlib==3.8.3->-r requirements.txt (line 10)) (1.4.5)\n",
      "Requirement already satisfied: pyparsing>=2.3.1 in c:\\users\\dell\\appdata\\local\\programs\\python\\python311\\lib\\site-packages (from matplotlib==3.8.3->-r requirements.txt (line 10)) (3.1.1)\n",
      "Requirement already satisfied: python-dateutil>=2.7 in c:\\users\\dell\\appdata\\local\\programs\\python\\python311\\lib\\site-packages (from matplotlib==3.8.3->-r requirements.txt (line 10)) (2.9.0)\n",
      "Requirement already satisfied: scipy>=1.6.0 in c:\\users\\dell\\appdata\\local\\programs\\python\\python311\\lib\\site-packages (from scikit-learn==1.4.2->-r requirements.txt (line 11)) (1.12.0)\n",
      "Requirement already satisfied: joblib>=1.2.0 in c:\\users\\dell\\appdata\\local\\programs\\python\\python311\\lib\\site-packages (from scikit-learn==1.4.2->-r requirements.txt (line 11)) (1.3.2)\n",
      "Requirement already satisfied: threadpoolctl>=2.0.0 in c:\\users\\dell\\appdata\\local\\programs\\python\\python311\\lib\\site-packages (from scikit-learn==1.4.2->-r requirements.txt (line 11)) (3.4.0)\n",
      "Requirement already satisfied: pandas>=1.2 in c:\\users\\dell\\appdata\\local\\programs\\python\\python311\\lib\\site-packages (from seaborn==0.13.2->-r requirements.txt (line 12)) (2.2.3)\n",
      "Requirement already satisfied: comm>=0.1.3 in c:\\users\\dell\\appdata\\local\\programs\\python\\python311\\lib\\site-packages (from ipywidgets==8.1.2->-r requirements.txt (line 13)) (0.2.1)\n",
      "Requirement already satisfied: ipython>=6.1.0 in c:\\users\\dell\\appdata\\local\\programs\\python\\python311\\lib\\site-packages (from ipywidgets==8.1.2->-r requirements.txt (line 13)) (8.22.1)\n",
      "Requirement already satisfied: traitlets>=4.3.1 in c:\\users\\dell\\appdata\\local\\programs\\python\\python311\\lib\\site-packages (from ipywidgets==8.1.2->-r requirements.txt (line 13)) (5.14.1)\n",
      "Requirement already satisfied: widgetsnbextension~=4.0.10 in c:\\users\\dell\\appdata\\local\\programs\\python\\python311\\lib\\site-packages (from ipywidgets==8.1.2->-r requirements.txt (line 13)) (4.0.10)\n",
      "Requirement already satisfied: jupyterlab-widgets~=3.0.10 in c:\\users\\dell\\appdata\\local\\programs\\python\\python311\\lib\\site-packages (from ipywidgets==8.1.2->-r requirements.txt (line 13)) (3.0.10)\n",
      "Requirement already satisfied: huggingface-hub<1.0,>=0.23.2 in c:\\users\\dell\\appdata\\local\\programs\\python\\python311\\lib\\site-packages (from transformers==4.42.4->-r requirements.txt (line 14)) (0.28.1)\n",
      "Requirement already satisfied: regex!=2019.12.17 in c:\\users\\dell\\appdata\\local\\programs\\python\\python311\\lib\\site-packages (from transformers==4.42.4->-r requirements.txt (line 14)) (2024.11.6)\n",
      "Requirement already satisfied: safetensors>=0.4.1 in c:\\users\\dell\\appdata\\local\\programs\\python\\python311\\lib\\site-packages (from transformers==4.42.4->-r requirements.txt (line 14)) (0.5.2)\n",
      "Requirement already satisfied: tokenizers<0.20,>=0.19 in c:\\users\\dell\\appdata\\local\\programs\\python\\python311\\lib\\site-packages (from transformers==4.42.4->-r requirements.txt (line 14)) (0.19.1)\n",
      "Requirement already satisfied: psutil in c:\\users\\dell\\appdata\\local\\programs\\python\\python311\\lib\\site-packages (from accelerate==0.30.0->-r requirements.txt (line 15)) (5.9.8)\n",
      "Requirement already satisfied: colorama in c:\\users\\dell\\appdata\\local\\programs\\python\\python311\\lib\\site-packages (from click>=7.0->ray==2.6.3->-r requirements.txt (line 6)) (0.4.3)\n",
      "Requirement already satisfied: cffi>=1.12 in c:\\users\\dell\\appdata\\local\\programs\\python\\python311\\lib\\site-packages (from cryptography<43.0.0,>=42.0.4->flwr==1.10.0->-r requirements.txt (line 5)) (1.15.1)\n",
      "Requirement already satisfied: pyarrow>=12.0.0 in c:\\users\\dell\\appdata\\local\\programs\\python\\python311\\lib\\site-packages (from datasets<2.20.0,>=2.14.6->flwr-datasets==0.2.0->flwr-datasets[vision]==0.2.0->-r requirements.txt (line 7)) (18.1.0)\n",
      "Requirement already satisfied: pyarrow-hotfix in c:\\users\\dell\\appdata\\local\\programs\\python\\python311\\lib\\site-packages (from datasets<2.20.0,>=2.14.6->flwr-datasets==0.2.0->flwr-datasets[vision]==0.2.0->-r requirements.txt (line 7)) (0.7)\n",
      "Requirement already satisfied: dill<0.3.9,>=0.3.0 in c:\\users\\dell\\appdata\\local\\programs\\python\\python311\\lib\\site-packages (from datasets<2.20.0,>=2.14.6->flwr-datasets==0.2.0->flwr-datasets[vision]==0.2.0->-r requirements.txt (line 7)) (0.3.8)\n",
      "Requirement already satisfied: xxhash in c:\\users\\dell\\appdata\\local\\programs\\python\\python311\\lib\\site-packages (from datasets<2.20.0,>=2.14.6->flwr-datasets==0.2.0->flwr-datasets[vision]==0.2.0->-r requirements.txt (line 7)) (3.5.0)\n",
      "Requirement already satisfied: multiprocess in c:\\users\\dell\\appdata\\local\\programs\\python\\python311\\lib\\site-packages (from datasets<2.20.0,>=2.14.6->flwr-datasets==0.2.0->flwr-datasets[vision]==0.2.0->-r requirements.txt (line 7)) (0.70.16)\n",
      "Requirement already satisfied: aiohttp in c:\\users\\dell\\appdata\\local\\programs\\python\\python311\\lib\\site-packages (from datasets<2.20.0,>=2.14.6->flwr-datasets==0.2.0->flwr-datasets[vision]==0.2.0->-r requirements.txt (line 7)) (3.11.18)\n",
      "Requirement already satisfied: decorator in c:\\users\\dell\\appdata\\local\\programs\\python\\python311\\lib\\site-packages (from ipython>=6.1.0->ipywidgets==8.1.2->-r requirements.txt (line 13)) (5.1.1)\n",
      "Requirement already satisfied: jedi>=0.16 in c:\\users\\dell\\appdata\\local\\programs\\python\\python311\\lib\\site-packages (from ipython>=6.1.0->ipywidgets==8.1.2->-r requirements.txt (line 13)) (0.19.1)\n",
      "Requirement already satisfied: matplotlib-inline in c:\\users\\dell\\appdata\\local\\programs\\python\\python311\\lib\\site-packages (from ipython>=6.1.0->ipywidgets==8.1.2->-r requirements.txt (line 13)) (0.1.6)\n",
      "Requirement already satisfied: prompt-toolkit<3.1.0,>=3.0.41 in c:\\users\\dell\\appdata\\local\\programs\\python\\python311\\lib\\site-packages (from ipython>=6.1.0->ipywidgets==8.1.2->-r requirements.txt (line 13)) (3.0.43)\n",
      "Requirement already satisfied: pygments>=2.4.0 in c:\\users\\dell\\appdata\\local\\programs\\python\\python311\\lib\\site-packages (from ipython>=6.1.0->ipywidgets==8.1.2->-r requirements.txt (line 13)) (2.17.2)\n",
      "Requirement already satisfied: stack-data in c:\\users\\dell\\appdata\\local\\programs\\python\\python311\\lib\\site-packages (from ipython>=6.1.0->ipywidgets==8.1.2->-r requirements.txt (line 13)) (0.6.3)\n",
      "Requirement already satisfied: pytz>=2020.1 in c:\\users\\dell\\appdata\\local\\programs\\python\\python311\\lib\\site-packages (from pandas>=1.2->seaborn==0.13.2->-r requirements.txt (line 12)) (2024.2)\n",
      "Requirement already satisfied: tzdata>=2022.7 in c:\\users\\dell\\appdata\\local\\programs\\python\\python311\\lib\\site-packages (from pandas>=1.2->seaborn==0.13.2->-r requirements.txt (line 12)) (2024.2)\n",
      "Requirement already satisfied: six>=1.5 in c:\\users\\dell\\appdata\\local\\programs\\python\\python311\\lib\\site-packages (from python-dateutil>=2.7->matplotlib==3.8.3->-r requirements.txt (line 10)) (1.16.0)\n",
      "Requirement already satisfied: charset-normalizer<4,>=2 in c:\\users\\dell\\appdata\\local\\programs\\python\\python311\\lib\\site-packages (from requests->ray==2.6.3->-r requirements.txt (line 6)) (3.3.2)\n",
      "Requirement already satisfied: idna<4,>=2.5 in c:\\users\\dell\\appdata\\local\\programs\\python\\python311\\lib\\site-packages (from requests->ray==2.6.3->-r requirements.txt (line 6)) (2.8)\n",
      "Requirement already satisfied: urllib3<3,>=1.21.1 in c:\\users\\dell\\appdata\\local\\programs\\python\\python311\\lib\\site-packages (from requests->ray==2.6.3->-r requirements.txt (line 6)) (1.25.7)\n",
      "Requirement already satisfied: certifi>=2017.4.17 in c:\\users\\dell\\appdata\\local\\programs\\python\\python311\\lib\\site-packages (from requests->ray==2.6.3->-r requirements.txt (line 6)) (2019.11.28)\n",
      "Requirement already satisfied: shellingham<2.0.0,>=1.3.0 in c:\\users\\dell\\appdata\\local\\programs\\python\\python311\\lib\\site-packages (from typer[all]<0.10.0,>=0.9.0->flwr==1.10.0->-r requirements.txt (line 5)) (1.5.4)\n",
      "Requirement already satisfied: rich<14.0.0,>=10.11.0 in c:\\users\\dell\\appdata\\local\\programs\\python\\python311\\lib\\site-packages (from typer[all]<0.10.0,>=0.9.0->flwr==1.10.0->-r requirements.txt (line 5)) (13.9.4)\n",
      "Requirement already satisfied: MarkupSafe>=2.0 in c:\\users\\dell\\appdata\\local\\programs\\python\\python311\\lib\\site-packages (from jinja2->torch==2.2.1->-r requirements.txt (line 8)) (2.1.5)\n",
      "Requirement already satisfied: attrs>=22.2.0 in c:\\users\\dell\\appdata\\local\\programs\\python\\python311\\lib\\site-packages (from jsonschema->ray==2.6.3->-r requirements.txt (line 6)) (25.3.0)\n",
      "Requirement already satisfied: jsonschema-specifications>=2023.03.6 in c:\\users\\dell\\appdata\\local\\programs\\python\\python311\\lib\\site-packages (from jsonschema->ray==2.6.3->-r requirements.txt (line 6)) (2023.12.1)\n",
      "Requirement already satisfied: referencing>=0.28.4 in c:\\users\\dell\\appdata\\local\\programs\\python\\python311\\lib\\site-packages (from jsonschema->ray==2.6.3->-r requirements.txt (line 6)) (0.33.0)\n",
      "Requirement already satisfied: rpds-py>=0.7.1 in c:\\users\\dell\\appdata\\local\\programs\\python\\python311\\lib\\site-packages (from jsonschema->ray==2.6.3->-r requirements.txt (line 6)) (0.18.0)\n",
      "Requirement already satisfied: mpmath<1.4,>=1.1.0 in c:\\users\\dell\\appdata\\local\\programs\\python\\python311\\lib\\site-packages (from sympy->torch==2.2.1->-r requirements.txt (line 8)) (1.3.0)\n",
      "Requirement already satisfied: pycparser in c:\\users\\dell\\appdata\\local\\programs\\python\\python311\\lib\\site-packages (from cffi>=1.12->cryptography<43.0.0,>=42.0.4->flwr==1.10.0->-r requirements.txt (line 5)) (2.21)\n",
      "Requirement already satisfied: aiohappyeyeballs>=2.3.0 in c:\\users\\dell\\appdata\\local\\programs\\python\\python311\\lib\\site-packages (from aiohttp->datasets<2.20.0,>=2.14.6->flwr-datasets==0.2.0->flwr-datasets[vision]==0.2.0->-r requirements.txt (line 7)) (2.6.1)\n",
      "Requirement already satisfied: multidict<7.0,>=4.5 in c:\\users\\dell\\appdata\\local\\programs\\python\\python311\\lib\\site-packages (from aiohttp->datasets<2.20.0,>=2.14.6->flwr-datasets==0.2.0->flwr-datasets[vision]==0.2.0->-r requirements.txt (line 7)) (6.4.3)\n",
      "Requirement already satisfied: propcache>=0.2.0 in c:\\users\\dell\\appdata\\local\\programs\\python\\python311\\lib\\site-packages (from aiohttp->datasets<2.20.0,>=2.14.6->flwr-datasets==0.2.0->flwr-datasets[vision]==0.2.0->-r requirements.txt (line 7)) (0.3.1)\n",
      "Requirement already satisfied: yarl<2.0,>=1.17.0 in c:\\users\\dell\\appdata\\local\\programs\\python\\python311\\lib\\site-packages (from aiohttp->datasets<2.20.0,>=2.14.6->flwr-datasets==0.2.0->flwr-datasets[vision]==0.2.0->-r requirements.txt (line 7)) (1.20.0)\n",
      "Requirement already satisfied: parso<0.9.0,>=0.8.3 in c:\\users\\dell\\appdata\\local\\programs\\python\\python311\\lib\\site-packages (from jedi>=0.16->ipython>=6.1.0->ipywidgets==8.1.2->-r requirements.txt (line 13)) (0.8.3)\n",
      "Requirement already satisfied: wcwidth in c:\\users\\dell\\appdata\\local\\programs\\python\\python311\\lib\\site-packages (from prompt-toolkit<3.1.0,>=3.0.41->ipython>=6.1.0->ipywidgets==8.1.2->-r requirements.txt (line 13)) (0.2.13)\n",
      "Requirement already satisfied: markdown-it-py>=2.2.0 in c:\\users\\dell\\appdata\\local\\programs\\python\\python311\\lib\\site-packages (from rich<14.0.0,>=10.11.0->typer[all]<0.10.0,>=0.9.0->flwr==1.10.0->-r requirements.txt (line 5)) (3.0.0)\n",
      "Requirement already satisfied: executing>=1.2.0 in c:\\users\\dell\\appdata\\local\\programs\\python\\python311\\lib\\site-packages (from stack-data->ipython>=6.1.0->ipywidgets==8.1.2->-r requirements.txt (line 13)) (2.0.1)\n",
      "Requirement already satisfied: asttokens>=2.1.0 in c:\\users\\dell\\appdata\\local\\programs\\python\\python311\\lib\\site-packages (from stack-data->ipython>=6.1.0->ipywidgets==8.1.2->-r requirements.txt (line 13)) (2.4.1)\n",
      "Requirement already satisfied: pure-eval in c:\\users\\dell\\appdata\\local\\programs\\python\\python311\\lib\\site-packages (from stack-data->ipython>=6.1.0->ipywidgets==8.1.2->-r requirements.txt (line 13)) (0.2.2)\n",
      "Requirement already satisfied: mdurl~=0.1 in c:\\users\\dell\\appdata\\local\\programs\\python\\python311\\lib\\site-packages (from markdown-it-py>=2.2.0->rich<14.0.0,>=10.11.0->typer[all]<0.10.0,>=0.9.0->flwr==1.10.0->-r requirements.txt (line 5)) (0.1.2)\n"
     ]
    },
    {
     "name": "stderr",
     "output_type": "stream",
     "text": [
      "\n",
      "[notice] A new release of pip is available: 24.0 -> 25.1.1\n",
      "[notice] To update, run: python.exe -m pip install --upgrade pip\n"
     ]
    }
   ],
   "source": [
    "!pip install -r requirements.txt"
   ]
  },
  {
   "cell_type": "markdown",
   "id": "2a78489d",
   "metadata": {},
   "source": [
    "#### 1. Load imports"
   ]
  },
  {
   "cell_type": "code",
   "execution_count": 2,
   "id": "58a8f229-c293-4321-9c0c-cd2676bb9a33",
   "metadata": {
    "height": 132
   },
   "outputs": [],
   "source": [
    "from flwr.client.mod import adaptiveclipping_mod\n",
    "from flwr.server.strategy import (\n",
    "    DifferentialPrivacyClientSideAdaptiveClipping,\n",
    "    FedAvg,\n",
    ")\n",
    "\n",
    "from utils4 import *"
   ]
  },
  {
   "cell_type": "markdown",
   "id": "7ee88090",
   "metadata": {},
   "source": [
    "#### 2. Load the MNIST dataset"
   ]
  },
  {
   "cell_type": "markdown",
   "id": "5eb0f3f1",
   "metadata": {},
   "source": [
    "* Use `flwr-datasets` that provides with a Federated Dataset abstraction."
   ]
  },
  {
   "cell_type": "code",
   "execution_count": 3,
   "id": "1d9cd2e2-0581-43c9-aafb-ab9d0c8af6f8",
   "metadata": {
    "height": 215
   },
   "outputs": [],
   "source": [
    "def load_data(partition_id):\n",
    "    fds = FederatedDataset(dataset=\"mnist\", partitioners={\"train\": 10})\n",
    "    partition = fds.load_partition(partition_id)\n",
    "\n",
    "    traintest = partition.train_test_split(test_size=0.2, seed=42)\n",
    "    traintest = traintest.with_transform(normalize)\n",
    "    trainset, testset = traintest[\"train\"], traintest[\"test\"]\n",
    "\n",
    "    trainloader = DataLoader(trainset, batch_size=64, shuffle=True)\n",
    "    testloader = DataLoader(testset, batch_size=64)\n",
    "    return trainloader, testloader"
   ]
  },
  {
   "cell_type": "markdown",
   "id": "84cad9d9",
   "metadata": {},
   "source": [
    "#### 3. Define the Model"
   ]
  },
  {
   "cell_type": "markdown",
   "id": "aa8abe99",
   "metadata": {},
   "source": [
    "* Define the FlowerClient."
   ]
  },
  {
   "cell_type": "code",
   "execution_count": 4,
   "id": "4da8c4f5-3edb-4017-8d6f-7160c3b51858",
   "metadata": {
    "height": 387
   },
   "outputs": [],
   "source": [
    "class FlowerClient(NumPyClient):\n",
    "    def __init__(self, net, trainloader, testloader):\n",
    "        self.net = net\n",
    "        self.trainloader = trainloader\n",
    "        self.testloader = testloader\n",
    "\n",
    "    def fit(self, parameters, config):\n",
    "        set_weights(self.net, parameters)\n",
    "        train_model(self.net, self.trainloader)\n",
    "        return get_weights(self.net), len(self.trainloader), {}\n",
    "\n",
    "    def evaluate(self, parameters, config):\n",
    "        set_weights(self.net, parameters)\n",
    "        loss, accuracy = evaluate_model(self.net, self.testloader)\n",
    "        return loss, len(self.testloader), {\"accuracy\": accuracy}\n",
    "\n",
    "\n",
    "def client_fn(context: Context) -> Client:\n",
    "    net = SimpleModel()\n",
    "    partition_id = int(context.node_config[\"partition-id\"])\n",
    "    trainloader, testloader = load_data(partition_id=partition_id)\n",
    "    return FlowerClient(net, trainloader, testloader).to_client()"
   ]
  },
  {
   "cell_type": "markdown",
   "id": "504a5f54",
   "metadata": {},
   "source": [
    "* Define the ClientApp."
   ]
  },
  {
   "cell_type": "code",
   "execution_count": 5,
   "id": "ec5473fc-585b-41ed-9ff8-6aaf5592a30b",
   "metadata": {
    "height": 81
   },
   "outputs": [],
   "source": [
    "client = ClientApp(\n",
    "    client_fn,\n",
    "    mods=[adaptiveclipping_mod],  # modifiers\n",
    ")"
   ]
  },
  {
   "cell_type": "markdown",
   "id": "64f661ed",
   "metadata": {},
   "source": [
    "* Define the Server side with the strategy FedAvg.\n",
    "\n",
    "**DP:** Differential Privacy."
   ]
  },
  {
   "cell_type": "code",
   "execution_count": 6,
   "id": "6b8f147a-9cb0-4ed9-b635-4106e93a0f7f",
   "metadata": {
    "height": 404
   },
   "outputs": [],
   "source": [
    "net = SimpleModel()\n",
    "params = ndarrays_to_parameters(get_weights(net))\n",
    "\n",
    "def server_fn(context: Context):\n",
    "    fedavg_without_dp = FedAvg(\n",
    "        fraction_fit=0.6,\n",
    "        fraction_evaluate=1.0,\n",
    "        initial_parameters=params,\n",
    "    )\n",
    "    fedavg_with_dp = DifferentialPrivacyClientSideAdaptiveClipping(\n",
    "        fedavg_without_dp,  # <- wrap the FedAvg strategy\n",
    "        noise_multiplier=0.3,\n",
    "        num_sampled_clients=6,\n",
    "    )\n",
    "    \n",
    "    # Adjust to 50 rounds to ensure DP guarantees hold\n",
    "    # with respect to the desired privacy budget\n",
    "    config = ServerConfig(num_rounds=5)\n",
    "    \n",
    "    return ServerAppComponents(\n",
    "        strategy=fedavg_with_dp,\n",
    "        config=config,\n",
    "    )"
   ]
  },
  {
   "cell_type": "code",
   "execution_count": 7,
   "id": "277e575f-582c-489a-9bee-d660ef88a4c4",
   "metadata": {
    "height": 30
   },
   "outputs": [],
   "source": [
    "server = ServerApp(server_fn=server_fn)"
   ]
  },
  {
   "cell_type": "markdown",
   "id": "29d25e55",
   "metadata": {},
   "source": [
    "* Run Client and Server apps."
   ]
  },
  {
   "cell_type": "markdown",
   "id": "43e4ab42-4b35-4fb7-9cb4-f45ca5919596",
   "metadata": {},
   "source": [
    "**Note**: This simulation may take approximately 7 to 10 minutes to complete all 50 rounds. "
   ]
  },
  {
   "cell_type": "code",
   "execution_count": 8,
   "id": "9057d6fe-7f7e-41fd-8312-7e4b7bc44189",
   "metadata": {
    "height": 98
   },
   "outputs": [
    {
     "name": "stderr",
     "output_type": "stream",
     "text": [
      "\u001b[92mINFO \u001b[0m: Starting Flower ServerApp, config: num_rounds=5, no round_timeout\n",
      "\u001b[92mINFO \u001b[0m: \n",
      "\u001b[92mINFO \u001b[0m: [INIT]\n",
      "\u001b[92mINFO \u001b[0m: Using initial global parameters provided by strategy\n",
      "\u001b[92mINFO \u001b[0m: Evaluating initial global parameters\n",
      "\u001b[92mINFO \u001b[0m: \n",
      "\u001b[92mINFO \u001b[0m: [ROUND 1]\n",
      "\u001b[92mINFO \u001b[0m: configure_fit: strategy sampled 6 clients (out of 10)\n",
      "\u001b[2m\u001b[36m(pid=21172)\u001b[0m 2025-05-13 15:45:11.675232: I tensorflow/core/util/port.cc:153] oneDNN custom operations are on. You may see slightly different numerical results due to floating-point round-off errors from different computation orders. To turn them off, set the environment variable `TF_ENABLE_ONEDNN_OPTS=0`.\n",
      "\u001b[2m\u001b[36m(ClientAppActor pid=21172)\u001b[0m \u001b[92mINFO \u001b[0m: adaptiveclipping_mod: parameters are clipped by value: 0.1000.\n",
      "\u001b[2m\u001b[36m(pid=8624)\u001b[0m 2025-05-13 15:45:13.635977: I tensorflow/core/util/port.cc:153] oneDNN custom operations are on. You may see slightly different numerical results due to floating-point round-off errors from different computation orders. To turn them off, set the environment variable `TF_ENABLE_ONEDNN_OPTS=0`.\u001b[32m [repeated 7x across cluster] (Ray deduplicates logs by default. Set RAY_DEDUP_LOGS=0 to disable log deduplication, or see https://docs.ray.io/en/master/ray-observability/ray-logging.html#log-deduplication for more options.)\u001b[0m\n",
      "\u001b[2m\u001b[36m(ClientAppActor pid=21172)\u001b[0m \u001b[92mINFO \u001b[0m: adaptiveclipping_mod: parameters are clipped by value: 0.1000.\u001b[32m [repeated 5x across cluster]\u001b[0m\n",
      "\u001b[92mINFO \u001b[0m: aggregate_fit: received 6 results and 0 failures\n",
      "\u001b[92mINFO \u001b[0m: aggregate_fit: central DP noise with 0.0051 stdev added\n",
      "\u001b[92mINFO \u001b[0m: configure_evaluate: strategy sampled 10 clients (out of 10)\n",
      "\u001b[92mINFO \u001b[0m: aggregate_evaluate: received 10 results and 0 failures\n",
      "\u001b[92mINFO \u001b[0m: \n",
      "\u001b[92mINFO \u001b[0m: [ROUND 2]\n",
      "\u001b[92mINFO \u001b[0m: configure_fit: strategy sampled 6 clients (out of 10)\n",
      "\u001b[2m\u001b[36m(ClientAppActor pid=21172)\u001b[0m \u001b[92mINFO \u001b[0m: adaptiveclipping_mod: parameters are clipped by value: 0.0891.\n",
      "\u001b[2m\u001b[36m(ClientAppActor pid=3276)\u001b[0m \u001b[92mINFO \u001b[0m: adaptiveclipping_mod: parameters are clipped by value: 0.0891.\n",
      "\u001b[2m\u001b[36m(ClientAppActor pid=3276)\u001b[0m \u001b[92mINFO \u001b[0m: adaptiveclipping_mod: parameters are clipped by value: 0.0891.\u001b[32m [repeated 4x across cluster]\u001b[0m\n",
      "\u001b[92mINFO \u001b[0m: aggregate_fit: received 6 results and 0 failures\n",
      "\u001b[92mINFO \u001b[0m: aggregate_fit: central DP noise with 0.0045 stdev added\n",
      "\u001b[92mINFO \u001b[0m: configure_evaluate: strategy sampled 10 clients (out of 10)\n",
      "\u001b[2m\u001b[36m(ClientAppActor pid=21172)\u001b[0m Using the latest cached version of the dataset since mnist couldn't be found on the Hugging Face Hub\n",
      "\u001b[2m\u001b[36m(ClientAppActor pid=21172)\u001b[0m Found the latest cached dataset configuration 'mnist' at C:\\Users\\Dell\\.cache\\huggingface\\datasets\\mnist\\mnist\\0.0.0\\77f3279092a1c1579b2250db8eafed0ad422088c (last modified on Tue May 13 15:45:53 2025).\n",
      "\u001b[92mINFO \u001b[0m: aggregate_evaluate: received 10 results and 0 failures\n",
      "\u001b[92mINFO \u001b[0m: \n",
      "\u001b[92mINFO \u001b[0m: [ROUND 3]\n",
      "\u001b[92mINFO \u001b[0m: configure_fit: strategy sampled 6 clients (out of 10)\n",
      "\u001b[2m\u001b[36m(ClientAppActor pid=21172)\u001b[0m \u001b[92mINFO \u001b[0m: adaptiveclipping_mod: parameters are clipped by value: 0.0785.\n",
      "\u001b[2m\u001b[36m(ClientAppActor pid=21172)\u001b[0m Using the latest cached version of the dataset since mnist couldn't be found on the Hugging Face Hub\u001b[32m [repeated 14x across cluster]\u001b[0m\n",
      "\u001b[2m\u001b[36m(ClientAppActor pid=8624)\u001b[0m Found the latest cached dataset configuration 'mnist' at C:\\Users\\Dell\\.cache\\huggingface\\datasets\\mnist\\mnist\\0.0.0\\77f3279092a1c1579b2250db8eafed0ad422088c (last modified on Tue May 13 15:45:53 2025).\u001b[32m [repeated 13x across cluster]\u001b[0m\n",
      "\u001b[2m\u001b[36m(ClientAppActor pid=3276)\u001b[0m \u001b[92mINFO \u001b[0m: adaptiveclipping_mod: parameters are clipped by value: 0.0785.\n",
      "\u001b[92mINFO \u001b[0m: aggregate_fit: received 6 results and 0 failures\n",
      "\u001b[92mINFO \u001b[0m: aggregate_fit: central DP noise with 0.0041 stdev added\n",
      "\u001b[92mINFO \u001b[0m: configure_evaluate: strategy sampled 10 clients (out of 10)\n",
      "\u001b[92mINFO \u001b[0m: aggregate_evaluate: received 10 results and 0 failures\n",
      "\u001b[92mINFO \u001b[0m: \n",
      "\u001b[92mINFO \u001b[0m: [ROUND 4]\n",
      "\u001b[92mINFO \u001b[0m: configure_fit: strategy sampled 6 clients (out of 10)\n",
      "\u001b[2m\u001b[36m(ClientAppActor pid=21172)\u001b[0m Using the latest cached version of the dataset since mnist couldn't be found on the Hugging Face Hub\u001b[32m [repeated 16x across cluster]\u001b[0m\n",
      "\u001b[2m\u001b[36m(ClientAppActor pid=21172)\u001b[0m Found the latest cached dataset configuration 'mnist' at C:\\Users\\Dell\\.cache\\huggingface\\datasets\\mnist\\mnist\\0.0.0\\77f3279092a1c1579b2250db8eafed0ad422088c (last modified on Tue May 13 15:45:53 2025).\u001b[32m [repeated 17x across cluster]\u001b[0m\n",
      "\u001b[2m\u001b[36m(ClientAppActor pid=21172)\u001b[0m \u001b[92mINFO \u001b[0m: adaptiveclipping_mod: parameters are clipped by value: 0.0708.\u001b[32m [repeated 5x across cluster]\u001b[0m\n",
      "\u001b[92mINFO \u001b[0m: aggregate_fit: received 6 results and 0 failures\n",
      "\u001b[92mINFO \u001b[0m: aggregate_fit: central DP noise with 0.0036 stdev added\n",
      "\u001b[92mINFO \u001b[0m: configure_evaluate: strategy sampled 10 clients (out of 10)\n",
      "\u001b[92mINFO \u001b[0m: aggregate_evaluate: received 10 results and 0 failures\n",
      "\u001b[92mINFO \u001b[0m: \n",
      "\u001b[92mINFO \u001b[0m: [ROUND 5]\n",
      "\u001b[92mINFO \u001b[0m: configure_fit: strategy sampled 6 clients (out of 10)\n",
      "\u001b[2m\u001b[36m(ClientAppActor pid=8624)\u001b[0m Using the latest cached version of the dataset since mnist couldn't be found on the Hugging Face Hub\u001b[32m [repeated 15x across cluster]\u001b[0m\n",
      "\u001b[2m\u001b[36m(ClientAppActor pid=8624)\u001b[0m Found the latest cached dataset configuration 'mnist' at C:\\Users\\Dell\\.cache\\huggingface\\datasets\\mnist\\mnist\\0.0.0\\77f3279092a1c1579b2250db8eafed0ad422088c (last modified on Tue May 13 15:45:53 2025).\u001b[32m [repeated 15x across cluster]\u001b[0m\n",
      "\u001b[2m\u001b[36m(ClientAppActor pid=3276)\u001b[0m \u001b[92mINFO \u001b[0m: adaptiveclipping_mod: parameters are clipped by value: 0.0631.\u001b[32m [repeated 6x across cluster]\u001b[0m\n",
      "\u001b[92mINFO \u001b[0m: aggregate_fit: received 6 results and 0 failures\n",
      "\u001b[92mINFO \u001b[0m: aggregate_fit: central DP noise with 0.0033 stdev added\n",
      "\u001b[92mINFO \u001b[0m: configure_evaluate: strategy sampled 10 clients (out of 10)\n",
      "\u001b[92mINFO \u001b[0m: aggregate_evaluate: received 10 results and 0 failures\n",
      "\u001b[92mINFO \u001b[0m: \n",
      "\u001b[92mINFO \u001b[0m: [SUMMARY]\n",
      "\u001b[92mINFO \u001b[0m: Run finished 5 round(s) in 95.09s\n",
      "\u001b[92mINFO \u001b[0m: \tHistory (loss, distributed):\n",
      "\u001b[92mINFO \u001b[0m: \t\tround 1: 43.09612338542938\n",
      "\u001b[92mINFO \u001b[0m: \t\tround 2: 41.85766198635101\n",
      "\u001b[92mINFO \u001b[0m: \t\tround 3: 40.89891076087952\n",
      "\u001b[92mINFO \u001b[0m: \t\tround 4: 40.061832547187805\n",
      "\u001b[92mINFO \u001b[0m: \t\tround 5: 39.1648426771164\n",
      "\u001b[92mINFO \u001b[0m: \n",
      "\u001b[2m\u001b[36m(ClientAppActor pid=37400)\u001b[0m Using the latest cached version of the dataset since mnist couldn't be found on the Hugging Face Hub\u001b[32m [repeated 12x across cluster]\u001b[0m\n",
      "\u001b[2m\u001b[36m(ClientAppActor pid=37400)\u001b[0m Found the latest cached dataset configuration 'mnist' at C:\\Users\\Dell\\.cache\\huggingface\\datasets\\mnist\\mnist\\0.0.0\\77f3279092a1c1579b2250db8eafed0ad422088c (last modified on Tue May 13 15:45:53 2025).\u001b[32m [repeated 12x across cluster]\u001b[0m\n",
      "\u001b[2m\u001b[36m(ClientAppActor pid=3276)\u001b[0m \u001b[92mINFO \u001b[0m: adaptiveclipping_mod: parameters are clipped by value: 0.0631.\u001b[32m [repeated 5x across cluster]\u001b[0m\n"
     ]
    }
   ],
   "source": [
    "run_simulation(server_app=server,\n",
    "               client_app=client,\n",
    "               num_supernodes=10,\n",
    "               backend_config=backend_setup\n",
    "               )"
   ]
  }
 ],
 "metadata": {
  "kernelspec": {
   "display_name": "Python 3",
   "language": "python",
   "name": "python3"
  },
  "language_info": {
   "codemirror_mode": {
    "name": "ipython",
    "version": 3
   },
   "file_extension": ".py",
   "mimetype": "text/x-python",
   "name": "python",
   "nbconvert_exporter": "python",
   "pygments_lexer": "ipython3",
   "version": "3.11.5"
  }
 },
 "nbformat": 4,
 "nbformat_minor": 5
}
